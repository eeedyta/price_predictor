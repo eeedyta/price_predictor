{
 "cells": [
  {
   "cell_type": "code",
   "execution_count": 1,
   "metadata": {},
   "outputs": [],
   "source": [
    "from selenium import webdriver\n",
    "from selenium.webdriver.chrome.options import Options\n",
    "import re\n",
    "import pandas as pd\n",
    "from IPython.display import Image, HTML"
   ]
  },
  {
   "cell_type": "markdown",
   "metadata": {},
   "source": [
    "### Definition of functions, required to proceed with web scrapped data"
   ]
  },
  {
   "cell_type": "markdown",
   "metadata": {},
   "source": [
    "#### Function to convert price into number"
   ]
  },
  {
   "cell_type": "code",
   "execution_count": 2,
   "metadata": {},
   "outputs": [],
   "source": [
    "def price_corr(price):\n",
    "    new_price=re.sub('[$ zł]','',price)\n",
    "    new_price=re.sub('[Zapytajocenę]','',new_price)\n",
    "    new_price=re.sub('[*,]','.',new_price)\n",
    "    \n",
    "    return new_price"
   ]
  },
  {
   "cell_type": "markdown",
   "metadata": {},
   "source": [
    "#### Function to convert price per m2 into number"
   ]
  },
  {
   "cell_type": "code",
   "execution_count": 3,
   "metadata": {},
   "outputs": [],
   "source": [
    "def price_per_m2_corr(price):\n",
    "    new_price_per_m2=re.sub('[$ zł/m²]','',price)\n",
    "    new_price_per_m2=re.sub('[*,]','.',new_price_per_m2)\n",
    "    \n",
    "    \n",
    "    return new_price_per_m2"
   ]
  },
  {
   "cell_type": "markdown",
   "metadata": {},
   "source": [
    "#### Function to convert apartment size into number"
   ]
  },
  {
   "cell_type": "code",
   "execution_count": 4,
   "metadata": {},
   "outputs": [],
   "source": [
    "def pow_corr(size):\n",
    "    new_pow=re.sub('[$ m²]','',size)\n",
    "    new_pow=re.sub('[*,]','.',new_pow)\n",
    "    \n",
    "    return float(new_pow)"
   ]
  },
  {
   "cell_type": "markdown",
   "metadata": {},
   "source": [
    "#### Function to convert utility cost into number"
   ]
  },
  {
   "cell_type": "code",
   "execution_count": 6,
   "metadata": {},
   "outputs": [],
   "source": [
    "def czynsz_corr(price):\n",
    "    new_czynsz=re.sub('[$ zł]','',price)\n",
    "\n",
    "    return new_czynsz"
   ]
  },
  {
   "cell_type": "markdown",
   "metadata": {},
   "source": [
    "#### Function to read - scrap otodom.pl offer"
   ]
  },
  {
   "cell_type": "code",
   "execution_count": 7,
   "metadata": {},
   "outputs": [],
   "source": [
    "def read_offer():\n",
    "    \n",
    "    title = \"\"\n",
    "\n",
    "    while title == \"\":\n",
    "        title = driver.find_elements_by_css_selector(\"h1.css-1ld8fwi\")[0].text\n",
    "        \n",
    "        \n",
    "    loc = driver.find_elements_by_css_selector(\"div.css-0 a\")[0].text\n",
    "    adress = loc.split(',')\n",
    "    city=adress[0]\n",
    "    off_type = driver.find_elements_by_css_selector(\"a.css-z43y8t\")[0].text\n",
    "    price = price_corr(driver.find_elements_by_css_selector(\"div.css-1vr19r7\")[0].text)\n",
    "    price_per_m2 = price_per_m2_corr(driver.find_elements_by_css_selector(\"div.css-18q4l99\")[0].text)\n",
    "    picture = driver.find_elements_by_tag_name('img')[0].get_attribute('src')\n",
    "    driver.execute_script(\"\"\"\n",
    "        const offset = window.pageYOffset\n",
    "        window.scrollTo(0, offset+475)\n",
    "        \"\"\")\n",
    "    # css-1i47t8k-It\n",
    "    atrybuty = driver.find_elements_by_css_selector(\"div.css-4jf91v-Et li\")\n",
    "    atryb={}\n",
    "    for i in atrybuty:\n",
    "        i=i.text\n",
    "        support = i.split(\":\")\n",
    "        atryb[support[0]]=re.sub('^ ','',support[1])\n",
    "    \n",
    "    if \"Powierzchnia\" in atryb:\n",
    "        atryb[\"Powierzchnia\"]=pow_corr(atryb[\"Powierzchnia\"])\n",
    "        \n",
    "    if \"Powierzchnia działki\" in atryb:\n",
    "        atryb[\"Powierzchnia działki\"]=pow_corr(atryb[\"Powierzchnia działki\"])\n",
    "        \n",
    "    if \"Czynsz\" in atryb:\n",
    "        atryb[\"Czynsz\"]=czynsz_corr(atryb[\"Czynsz\"])\n",
    "    \n",
    "    offer_dict={\n",
    "        'typ_oferty':off_type,\n",
    "        'nazwa':title,\n",
    "        'zdjecie_link':picture,\n",
    "        'lokalizacja':loc,\n",
    "        'miejscowosc':city,\n",
    "        'cena_PLN':price,\n",
    "        'cena_za_m2':price_per_m2\n",
    "    }\n",
    "    \n",
    "    offer_dict.update(atryb)\n",
    "    \n",
    "    return offer_dict\n",
    "   "
   ]
  },
  {
   "cell_type": "markdown",
   "metadata": {},
   "source": [
    "#### Function to select next offer"
   ]
  },
  {
   "cell_type": "code",
   "execution_count": 8,
   "metadata": {},
   "outputs": [],
   "source": [
    "def go_to_offer(idx):\n",
    "    elements = driver.find_elements_by_css_selector(\".offer-item-title\")\n",
    "    elements[idx].click()\n"
   ]
  },
  {
   "cell_type": "markdown",
   "metadata": {},
   "source": [
    "#### Function to go back to list of offers"
   ]
  },
  {
   "cell_type": "code",
   "execution_count": 9,
   "metadata": {},
   "outputs": [],
   "source": [
    "def back_to_list():\n",
    "    but=driver.find_element_by_css_selector(\"a.css-2ddjor\")\n",
    "    but.click()\n",
    "    "
   ]
  },
  {
   "cell_type": "markdown",
   "metadata": {},
   "source": [
    "#### Function to scroll down the list"
   ]
  },
  {
   "cell_type": "code",
   "execution_count": 10,
   "metadata": {},
   "outputs": [],
   "source": [
    "def scroll_to_offer():\n",
    "    driver.execute_script(\"\"\"\n",
    "    const offset = window.pageYOffset\n",
    "    window.scrollTo(0, offset+348)\n",
    "    \"\"\")\n"
   ]
  },
  {
   "cell_type": "markdown",
   "metadata": {},
   "source": [
    "#### Function to go to the next page of offers"
   ]
  },
  {
   "cell_type": "code",
   "execution_count": 11,
   "metadata": {},
   "outputs": [],
   "source": [
    "def new_page():\n",
    "    next_page=driver.find_element_by_css_selector(\"span.icon-next\")\n",
    "    next_page.click()"
   ]
  },
  {
   "cell_type": "markdown",
   "metadata": {},
   "source": [
    "### Offers' scrapping"
   ]
  },
  {
   "cell_type": "code",
   "execution_count": 12,
   "metadata": {},
   "outputs": [],
   "source": [
    "options = Options()\n",
    "options.headless=True\n",
    "driver = webdriver.Chrome(\"./chromedriver\",options=options)\n",
    "driver.get(\"https://www.otodom.pl/sprzedaz/mieszkanie/krakow/?search%5Bregion_id%5D=6&search%5Bsubregion_id%5D=410&search%5Bcity_id%5D=38&search%5Border%5D=created_at_first%3Adesc\")\n",
    "driver.set_window_size(800, 1080)\n",
    "driver.implicitly_wait(10)\n",
    "driver.execute_script(\"\"\"\n",
    "    const offset = window.pageYOffset\n",
    "    window.scrollTo(0, offset+9850)\n",
    "    \"\"\")\n",
    "\n",
    "last = int(driver.find_elements_by_css_selector(\"ul.pager li:nth-child(5) a\")[0].text)\n",
    "driver.execute_script(\"\"\"\n",
    "    const offset = window.pageYOffset\n",
    "    window.scrollTo(0, offset-9850)\n",
    "    \"\"\")\n",
    "\n",
    "offers=[]\n",
    "\n",
    "j=1\n",
    "while j<=1:     # should be last-1\n",
    "    for i in range(24):\n",
    "        driver.execute_script(\"\"\"\n",
    "        const offset = window.pageYOffset\n",
    "        window.scrollTo(0, offset+1550)\n",
    "        \"\"\")\n",
    "        try:\n",
    "            go_to_offer(i)\n",
    "        except:\n",
    "            back_to_list()\n",
    "            scroll_to_offer()\n",
    "            \n",
    "        offers.append(read_offer())\n",
    "    \n",
    "        back_to_list()\n",
    "        scroll_to_offer()\n",
    "        \n",
    "    new_page()\n",
    "    j+=1\n",
    "\n",
    "driver.close()"
   ]
  },
  {
   "cell_type": "markdown",
   "metadata": {},
   "source": [
    "### Save scrapped data into DataFrame"
   ]
  },
  {
   "cell_type": "code",
   "execution_count": 12,
   "metadata": {},
   "outputs": [
    {
     "name": "stdout",
     "output_type": "stream",
     "text": [
      "<class 'pandas.core.frame.DataFrame'>\n",
      "RangeIndex: 840 entries, 0 to 839\n",
      "Data columns (total 21 columns):\n",
      " #   Column            Non-Null Count  Dtype  \n",
      "---  ------            --------------  -----  \n",
      " 0   typ_oferty        840 non-null    object \n",
      " 1   nazwa             840 non-null    object \n",
      " 2   zdjecie_link      840 non-null    object \n",
      " 3   lokalizacja       840 non-null    object \n",
      " 4   miejscowosc       840 non-null    object \n",
      " 5   cena_PLN          840 non-null    object \n",
      " 6   cena_za_m2        840 non-null    object \n",
      " 7   Powierzchnia      228 non-null    float64\n",
      " 8   Liczba pokoi      228 non-null    object \n",
      " 9   Rynek             228 non-null    object \n",
      " 10  Rodzaj zabudowy   211 non-null    object \n",
      " 11  Piętro            226 non-null    object \n",
      " 12  Liczba pięter     224 non-null    object \n",
      " 13  Materiał budynku  105 non-null    object \n",
      " 14  Okna              148 non-null    object \n",
      " 15  Ogrzewanie        193 non-null    object \n",
      " 16  Rok budowy        209 non-null    object \n",
      " 17  Stan wykończenia  180 non-null    object \n",
      " 18  Czynsz            49 non-null     object \n",
      " 19  Forma własności   190 non-null    object \n",
      " 20  Dostępne od       19 non-null     object \n",
      "dtypes: float64(1), object(20)\n",
      "memory usage: 137.9+ KB\n"
     ]
    }
   ],
   "source": [
    "otodom = pd.DataFrame(offers)\n",
    "otodom.info()"
   ]
  },
  {
   "cell_type": "code",
   "execution_count": 13,
   "metadata": {},
   "outputs": [
    {
     "data": {
      "text/html": [
       "<div>\n",
       "<style scoped>\n",
       "    .dataframe tbody tr th:only-of-type {\n",
       "        vertical-align: middle;\n",
       "    }\n",
       "\n",
       "    .dataframe tbody tr th {\n",
       "        vertical-align: top;\n",
       "    }\n",
       "\n",
       "    .dataframe thead th {\n",
       "        text-align: right;\n",
       "    }\n",
       "</style>\n",
       "<table border=\"1\" class=\"dataframe\">\n",
       "  <thead>\n",
       "    <tr style=\"text-align: right;\">\n",
       "      <th></th>\n",
       "      <th>typ_oferty</th>\n",
       "      <th>nazwa</th>\n",
       "      <th>zdjecie_link</th>\n",
       "      <th>lokalizacja</th>\n",
       "      <th>miejscowosc</th>\n",
       "      <th>cena_PLN</th>\n",
       "      <th>cena_za_m2</th>\n",
       "      <th>Powierzchnia</th>\n",
       "      <th>Liczba pokoi</th>\n",
       "      <th>Rynek</th>\n",
       "      <th>...</th>\n",
       "      <th>Piętro</th>\n",
       "      <th>Liczba pięter</th>\n",
       "      <th>Materiał budynku</th>\n",
       "      <th>Okna</th>\n",
       "      <th>Ogrzewanie</th>\n",
       "      <th>Rok budowy</th>\n",
       "      <th>Stan wykończenia</th>\n",
       "      <th>Czynsz</th>\n",
       "      <th>Forma własności</th>\n",
       "      <th>Dostępne od</th>\n",
       "    </tr>\n",
       "  </thead>\n",
       "  <tbody>\n",
       "    <tr>\n",
       "      <th>0</th>\n",
       "      <td>Mieszkanie na sprzedaż</td>\n",
       "      <td>Piękne studio w centrum Kazimierza.</td>\n",
       "      <td>https://www.otodom.pl/frontera/static/media/lo...</td>\n",
       "      <td>Kraków, Stare Miasto, Kazimierz, Paulińska</td>\n",
       "      <td>Kraków</td>\n",
       "      <td>479000</td>\n",
       "      <td>14088</td>\n",
       "      <td>34.00</td>\n",
       "      <td>1</td>\n",
       "      <td>wtórny</td>\n",
       "      <td>...</td>\n",
       "      <td>parter</td>\n",
       "      <td>4</td>\n",
       "      <td>cegła</td>\n",
       "      <td>plastikowe</td>\n",
       "      <td>NaN</td>\n",
       "      <td>NaN</td>\n",
       "      <td>NaN</td>\n",
       "      <td>NaN</td>\n",
       "      <td>NaN</td>\n",
       "      <td>NaN</td>\n",
       "    </tr>\n",
       "    <tr>\n",
       "      <th>1</th>\n",
       "      <td>Mieszkanie na sprzedaż</td>\n",
       "      <td>3 pokoje, po remoncie, Obozowa</td>\n",
       "      <td>https://www.otodom.pl/frontera/static/media/lo...</td>\n",
       "      <td>Kraków, Dębniki, Ruczaj, Obozowa</td>\n",
       "      <td>Kraków</td>\n",
       "      <td>514000</td>\n",
       "      <td>9345</td>\n",
       "      <td>55.00</td>\n",
       "      <td>3</td>\n",
       "      <td>wtórny</td>\n",
       "      <td>...</td>\n",
       "      <td>1</td>\n",
       "      <td>4</td>\n",
       "      <td>cegła</td>\n",
       "      <td>plastikowe</td>\n",
       "      <td>miejskie</td>\n",
       "      <td>2003</td>\n",
       "      <td>do zamieszkania</td>\n",
       "      <td>400</td>\n",
       "      <td>pełna własność</td>\n",
       "      <td>NaN</td>\n",
       "    </tr>\n",
       "    <tr>\n",
       "      <th>2</th>\n",
       "      <td>Mieszkanie na sprzedaż</td>\n",
       "      <td>Mieszkanie dwupoziomowe 60 m2, bezpośrednio</td>\n",
       "      <td>https://www.otodom.pl/frontera/static/media/lo...</td>\n",
       "      <td>Kraków, Krowodrza, Krowodrza Górka, ul. gen. A...</td>\n",
       "      <td>Kraków</td>\n",
       "      <td>610000</td>\n",
       "      <td>10145</td>\n",
       "      <td>60.13</td>\n",
       "      <td>2</td>\n",
       "      <td>wtórny</td>\n",
       "      <td>...</td>\n",
       "      <td>7</td>\n",
       "      <td>7</td>\n",
       "      <td>NaN</td>\n",
       "      <td>plastikowe</td>\n",
       "      <td>miejskie</td>\n",
       "      <td>2006</td>\n",
       "      <td>do zamieszkania</td>\n",
       "      <td>510</td>\n",
       "      <td>pełna własność</td>\n",
       "      <td>2019-12-06</td>\n",
       "    </tr>\n",
       "    <tr>\n",
       "      <th>3</th>\n",
       "      <td>Mieszkanie na sprzedaż</td>\n",
       "      <td>Własne Miejsce - Piaski Wielkie 141x</td>\n",
       "      <td>https://www.otodom.pl/frontera/static/media/lo...</td>\n",
       "      <td>Kraków, Podgórze Duchackie, Szpakowa 10</td>\n",
       "      <td>Kraków</td>\n",
       "      <td>404061</td>\n",
       "      <td>7100</td>\n",
       "      <td>56.91</td>\n",
       "      <td>3</td>\n",
       "      <td>pierwotny</td>\n",
       "      <td>...</td>\n",
       "      <td>8</td>\n",
       "      <td>11</td>\n",
       "      <td>żelbet</td>\n",
       "      <td>plastikowe</td>\n",
       "      <td>miejskie</td>\n",
       "      <td>2021</td>\n",
       "      <td>do wykończenia</td>\n",
       "      <td>NaN</td>\n",
       "      <td>pełna własność</td>\n",
       "      <td>NaN</td>\n",
       "    </tr>\n",
       "    <tr>\n",
       "      <th>4</th>\n",
       "      <td>Mieszkanie na sprzedaż</td>\n",
       "      <td>Własne Miejsce - Piaski Wielkie 140x</td>\n",
       "      <td>https://www.otodom.pl/frontera/static/media/lo...</td>\n",
       "      <td>Kraków, Podgórze Duchackie, Szpakowa 10</td>\n",
       "      <td>Kraków</td>\n",
       "      <td>303630</td>\n",
       "      <td>7250</td>\n",
       "      <td>41.88</td>\n",
       "      <td>2</td>\n",
       "      <td>pierwotny</td>\n",
       "      <td>...</td>\n",
       "      <td>8</td>\n",
       "      <td>11</td>\n",
       "      <td>żelbet</td>\n",
       "      <td>plastikowe</td>\n",
       "      <td>miejskie</td>\n",
       "      <td>2021</td>\n",
       "      <td>do wykończenia</td>\n",
       "      <td>NaN</td>\n",
       "      <td>pełna własność</td>\n",
       "      <td>NaN</td>\n",
       "    </tr>\n",
       "  </tbody>\n",
       "</table>\n",
       "<p>5 rows × 21 columns</p>\n",
       "</div>"
      ],
      "text/plain": [
       "               typ_oferty                                        nazwa  \\\n",
       "0  Mieszkanie na sprzedaż          Piękne studio w centrum Kazimierza.   \n",
       "1  Mieszkanie na sprzedaż               3 pokoje, po remoncie, Obozowa   \n",
       "2  Mieszkanie na sprzedaż  Mieszkanie dwupoziomowe 60 m2, bezpośrednio   \n",
       "3  Mieszkanie na sprzedaż         Własne Miejsce - Piaski Wielkie 141x   \n",
       "4  Mieszkanie na sprzedaż         Własne Miejsce - Piaski Wielkie 140x   \n",
       "\n",
       "                                        zdjecie_link  \\\n",
       "0  https://www.otodom.pl/frontera/static/media/lo...   \n",
       "1  https://www.otodom.pl/frontera/static/media/lo...   \n",
       "2  https://www.otodom.pl/frontera/static/media/lo...   \n",
       "3  https://www.otodom.pl/frontera/static/media/lo...   \n",
       "4  https://www.otodom.pl/frontera/static/media/lo...   \n",
       "\n",
       "                                         lokalizacja miejscowosc cena_PLN  \\\n",
       "0         Kraków, Stare Miasto, Kazimierz, Paulińska      Kraków   479000   \n",
       "1                   Kraków, Dębniki, Ruczaj, Obozowa      Kraków   514000   \n",
       "2  Kraków, Krowodrza, Krowodrza Górka, ul. gen. A...      Kraków   610000   \n",
       "3            Kraków, Podgórze Duchackie, Szpakowa 10      Kraków   404061   \n",
       "4            Kraków, Podgórze Duchackie, Szpakowa 10      Kraków   303630   \n",
       "\n",
       "  cena_za_m2  Powierzchnia Liczba pokoi      Rynek  ...  Piętro Liczba pięter  \\\n",
       "0      14088         34.00            1     wtórny  ...  parter             4   \n",
       "1       9345         55.00            3     wtórny  ...       1             4   \n",
       "2      10145         60.13            2     wtórny  ...       7             7   \n",
       "3       7100         56.91            3  pierwotny  ...       8            11   \n",
       "4       7250         41.88            2  pierwotny  ...       8            11   \n",
       "\n",
       "  Materiał budynku        Okna Ogrzewanie Rok budowy Stan wykończenia Czynsz  \\\n",
       "0            cegła  plastikowe        NaN        NaN              NaN    NaN   \n",
       "1            cegła  plastikowe   miejskie       2003  do zamieszkania    400   \n",
       "2              NaN  plastikowe   miejskie       2006  do zamieszkania    510   \n",
       "3           żelbet  plastikowe   miejskie       2021   do wykończenia    NaN   \n",
       "4           żelbet  plastikowe   miejskie       2021   do wykończenia    NaN   \n",
       "\n",
       "  Forma własności Dostępne od  \n",
       "0             NaN         NaN  \n",
       "1  pełna własność         NaN  \n",
       "2  pełna własność  2019-12-06  \n",
       "3  pełna własność         NaN  \n",
       "4  pełna własność         NaN  \n",
       "\n",
       "[5 rows x 21 columns]"
      ]
     },
     "execution_count": 13,
     "metadata": {},
     "output_type": "execute_result"
    }
   ],
   "source": [
    "otodom.head()"
   ]
  },
  {
   "cell_type": "markdown",
   "metadata": {},
   "source": [
    "### Simple data management"
   ]
  },
  {
   "cell_type": "code",
   "execution_count": 14,
   "metadata": {},
   "outputs": [],
   "source": [
    "otodom.drop_duplicates(inplace=True)\n",
    "otodom.reset_index(drop=True,inplace=True)\n",
    "otodom[\"cena_za_m2\"] = pd.Series(otodom[\"cena_za_m2\"], dtype= 'float64')\n",
    "otodom[\"cena_PLN\"] = pd.Series(otodom[\"cena_PLN\"], dtype= 'float64')"
   ]
  },
  {
   "cell_type": "markdown",
   "metadata": {},
   "source": [
    "### Save DataFrame to csv file"
   ]
  },
  {
   "cell_type": "code",
   "execution_count": 15,
   "metadata": {},
   "outputs": [],
   "source": [
    "otodom.set_index('nazwa',inplace=True)\n",
    "otodom.to_csv(\"otodom_file\")"
   ]
  }
 ],
 "metadata": {
  "kernelspec": {
   "display_name": "Python 3",
   "language": "python",
   "name": "python3"
  },
  "language_info": {
   "codemirror_mode": {
    "name": "ipython",
    "version": 3
   },
   "file_extension": ".py",
   "mimetype": "text/x-python",
   "name": "python",
   "nbconvert_exporter": "python",
   "pygments_lexer": "ipython3",
   "version": "3.6.7"
  }
 },
 "nbformat": 4,
 "nbformat_minor": 2
}
